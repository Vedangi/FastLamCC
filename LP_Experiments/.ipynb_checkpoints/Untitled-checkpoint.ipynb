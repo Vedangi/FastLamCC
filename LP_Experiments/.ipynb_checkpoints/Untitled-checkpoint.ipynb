{
 "cells": [
  {
   "cell_type": "code",
   "execution_count": 1,
   "id": "naked-running",
   "metadata": {},
   "outputs": [
    {
     "name": "stdout",
     "output_type": "stream",
     "text": [
      "Set parameter Username\r\n",
      "Academic license - for non-commercial use only - expires 2023-11-23\r\n"
     ]
    },
    {
     "data": {
      "text/plain": [
       "Gurobi.Env(Ptr{Nothing} @0x0000000076d4ee30, false, 0)"
      ]
     },
     "execution_count": 1,
     "metadata": {},
     "output_type": "execute_result"
    }
   ],
   "source": [
    "using Gurobi\n",
    "using SparseArrays\n",
    "using LinearAlgebra\n",
    "using MAT\n",
    "gurobi_env = Gurobi.Env()"
   ]
  },
  {
   "cell_type": "code",
   "execution_count": 44,
   "id": "accessible-tongue",
   "metadata": {},
   "outputs": [
    {
     "name": "stdout",
     "output_type": "stream",
     "text": [
      "Set parameter Username\n",
      "Academic license - for non-commercial use only - expires 2023-11-23\n",
      "Set parameter Username\n",
      "Academic license - for non-commercial use only - expires 2023-11-23\n",
      "Set parameter Username\n",
      "Academic license - for non-commercial use only - expires 2023-11-23\n",
      "CFP calculating\n",
      "LP calculations\n"
     ]
    },
    {
     "name": "stderr",
     "output_type": "stream",
     "text": [
      "┌ Warning: Assignment to `pivtimes` in soft scope is ambiguous because a global variable by the same name exists: `pivtimes` will be treated as a new local. Disambiguate by using `local pivtimes` to suppress this warning or `global pivtimes` to assign to the existing global variable.\n",
      "└ @ nothing C:\\Users\\vdngi\\Desktop\\6Approximation\\FastCC-LambdaCC_new\\FastCC-LambdaCC\\LP_Experiments\\run_lp_exps.jl:105\n"
     ]
    },
    {
     "name": "stdout",
     "output_type": "stream",
     "text": [
      "polblogsA \t lambda- 0.4 \t 1222 \t 16714.0"
     ]
    },
    {
     "name": "stderr",
     "output_type": "stream",
     "text": [
      "┌ Warning: Assignment to `pivtimes` in soft scope is ambiguous because a global variable by the same name exists: `pivtimes` will be treated as a new local. Disambiguate by using `local pivtimes` to suppress this warning or `global pivtimes` to assign to the existing global variable.\n",
      "└ @ nothing C:\\Users\\vdngi\\Desktop\\6Approximation\\FastCC-LambdaCC_new\\FastCC-LambdaCC\\LP_Experiments\\run_lp_exps.jl:138\n"
     ]
    },
    {
     "name": "stdout",
     "output_type": "stream",
     "text": [
      "\n",
      "Set parameter TimeLimit to value 1.7997969999313354e+03\n",
      "First round of optimization\n",
      "Adding in 0 violated constraints. Optimal solution found.\n",
      "STatus cclp is for true for lambda 0.4\n"
     ]
    }
   ],
   "source": [
    "include(\"run_lp_exps.jl\")"
   ]
  },
  {
   "cell_type": "code",
   "execution_count": 40,
   "id": "assisted-respondent",
   "metadata": {},
   "outputs": [
    {
     "name": "stdout",
     "output_type": "stream",
     "text": [
      "Here\n",
      "Looks timeout in status_lp\n",
      "\\midrule\n",
      "\\textsc{Lambda : 0.00082} & LB & 229 & 229.4 &Timeout & Timeout  \\\\\n",
      "            & UB & 1032 $\\tiny{\\pm 116}$ & 16700 $\\tiny{\\pm 0}$  & Timeout $\\tiny{\\pm Timeout}$  Timeout $\\tiny{\\pm Timeout}$  \\\\\n",
      "$n = 1222 $ & Ratio & 4.505 $\\tiny{\\pm 0.5087}$ & 72.8 $\\tiny{\\pm 2.942e-14}$ & Timeout $\\tiny{\\pm Timeout}$ &  Timeout $\\tiny{\\pm Timeout}$ \\\\\n",
      " $m = 16714$ & Run & 3.1 $\\tiny{\\pm 0.0445}$ &  10.4 $\\tiny{\\pm 0.00547}$ & Timeout $\\tiny{\\pm Timeout}$ &  Timeout $\\tiny{\\pm Timeout}$\\\\\n",
      "Going inside catch loop for lambda 0.4\n",
      "\\midrule\n",
      "\\textsc{Lambda : 0.4} & LB & 4960 & --$^*$ &-- & --\\\\\n",
      "            & UB & 10565 $\\tiny{\\pm 60}$ & -- $\\tiny{\\pm --}$  & -- $\\tiny{\\pm --}$  -- $\\tiny{\\pm --}$  \\\\\n",
      "$n = 1222 $ & Ratio & 2.13 $\\tiny{\\pm 0.01206}$ & -- $\\tiny{\\pm --}$ & -- $\\tiny{\\pm --}$ &  -- $\\tiny{\\pm --}$ \\\\\n",
      " $m = 16714$ & Run & 0.163 $\\tiny{\\pm 0.0117}$ &  -- $\\tiny{\\pm --}$ & -- $\\tiny{\\pm --}$ &  -- $\\tiny{\\pm --}$\\\\\n",
      "Here\n",
      "\\midrule\n",
      "\\textsc{Lambda : 0.55} & LB & 3745 & 3760.2$^*$ &3760.2 & 3760.2\\\\\n",
      "            & UB & 7887 $\\tiny{\\pm 26}$ & 8225 $\\tiny{\\pm 109}$  & 7517 $\\tiny{\\pm 0}$  8215 $\\tiny{\\pm 107}$  \\\\\n",
      "$n = 1222 $ & Ratio & 2.106 $\\tiny{\\pm 0.00695}$ & 2.187 $\\tiny{\\pm 0.02905}$ & 1.999 $\\tiny{\\pm 0.0}$ &  2.185 $\\tiny{\\pm 0.02843}$ \\\\\n",
      " $m = 16714$ & Run & 0.0903 $\\tiny{\\pm 0.00868}$ &  215.2 $\\tiny{\\pm 0.00713}$ & 7517.0 $\\tiny{\\pm 7517.0}$ &  8214.7 $\\tiny{\\pm 8214.7}$\\\\\n",
      "Here\n",
      "\\midrule\n",
      "\\textsc{Lambda : 0.75} & LB & 2084 & 2089.0$^*$ &2089.0 & 2089.0\\\\\n",
      "            & UB & 4380 $\\tiny{\\pm 10}$ & 4177 $\\tiny{\\pm 0}$  & 4177 $\\tiny{\\pm 0}$  4177 $\\tiny{\\pm 0}$  \\\\\n",
      "$n = 1222 $ & Ratio & 2.102 $\\tiny{\\pm 0.004838}$ & 2.0 $\\tiny{\\pm 0.0}$ & 2.0 $\\tiny{\\pm 0.0}$ &  2.0 $\\tiny{\\pm 0.0}$ \\\\\n",
      " $m = 16714$ & Run & 0.0541 $\\tiny{\\pm 0.0103}$ &  176.0 $\\tiny{\\pm 0.00733}$ & 4177.0 $\\tiny{\\pm 4177.0}$ &  4177.0 $\\tiny{\\pm 4177.0}$\\\\\n",
      "Here\n",
      "\\midrule\n",
      "\\textsc{Lambda : 0.95} & LB & 417 & 417.8$^*$ &417.8 & 417.8\\\\\n",
      "            & UB & 837 $\\tiny{\\pm 0}$ & 835 $\\tiny{\\pm 0}$  & 835 $\\tiny{\\pm 0}$  835 $\\tiny{\\pm 0}$  \\\\\n",
      "$n = 1222 $ & Ratio & 2.007 $\\tiny{\\pm 4.597e-16}$ & 1.999 $\\tiny{\\pm 2.298e-16}$ & 1.999 $\\tiny{\\pm 2.298e-16}$ &  1.999 $\\tiny{\\pm 2.298e-16}$ \\\\\n",
      " $m = 16714$ & Run & 0.0534 $\\tiny{\\pm 0.00852}$ &  108.7 $\\tiny{\\pm 0.00467}$ & 835.0 $\\tiny{\\pm 835.0}$ &  835.0 $\\tiny{\\pm 835.0}$\\\\\n"
     ]
    }
   ],
   "source": [
    "include(\"print_results.jl\")"
   ]
  },
  {
   "cell_type": "code",
   "execution_count": 42,
   "id": "intermediate-butler",
   "metadata": {},
   "outputs": [
    {
     "data": {
      "text/plain": [
       "\"polblogsA\""
      ]
     },
     "execution_count": 42,
     "metadata": {},
     "output_type": "execute_result"
    }
   ],
   "source": [
    "smallgraphs = [\n",
    "    \"Harvard500A\";\n",
    "    \"Erdos991A\"; \n",
    "    \"celegansneuralA\";\n",
    "    \"Netscience\";\n",
    "    \"celegansmetabolicA\";\n",
    "    \"RogetA\";\n",
    "    \"SmaGriA\";\n",
    "    \"emailA\";\n",
    "    \"polblogsA\";\n",
    "    \"standard_ca-GrQc\";\n",
    "    \"standard_caHepThA\";\n",
    "    \"standard_EmailEnronA\";\n",
    "    \"standard_condmat2005A\";\n",
    "    \"standard_ca-AstroPhA\";\n",
    "    \"standard_loc-Brightkite\";\n",
    "    # \"Caltech36\";\n",
    "    # \"Reed98\";\n",
    "    # \"Simmons81\";\n",
    "    # \"Haverford76\";\n",
    "    # \"Swarthmore42\";\n",
    "    # \"Amherst41\";\n",
    "    # \"Bowdoin47\";\n",
    "    # \"Rice31\";\n",
    "    # \"Lehigh96\";\n",
    "]\n",
    "graph = smallgraphs[9]\n"
   ]
  },
  {
   "cell_type": "code",
   "execution_count": 11,
   "id": "periodic-willow",
   "metadata": {},
   "outputs": [
    {
     "data": {
      "text/plain": [
       "Dict{String, Any} with 17 entries:\n",
       "  \"status_stclp\"        => false\n",
       "  \"clp_ubt_results\"     => [0.056, 0.0780001, 0.063, 0.0419998, 0.0469999, 0.04…\n",
       "  \"lp_std_ub_results\"   => [1.34763e6, 1.34763e6, 1.34763e6, 1.34763e6, 1.34763…\n",
       "  \"iscclp\"              => -1\n",
       "  \"lp_new_tott_results\" => [46492.1, 46716.1, 46999.1, 46046.1, 46129.1, 46034.…\n",
       "  \"lp_lbt_results\"      => [2125.48, 2125.48, 2125.48, 2125.48, 2125.48, 2125.4…\n",
       "  \"clp_tott_results\"    => [2122.31, 2122.33, 2122.31, 2122.29, 2122.3, 2122.3,…\n",
       "  \"lp_new_ubt_results\"  => [0.11, 0.062, 0.062, 0.0660002, 0.0780001, 0.0469999…\n",
       "  \"lp_std_tott_results\" => [1.34763e6, 1.34763e6, 1.34763e6, 1.34763e6, 1.34763…\n",
       "  \"lp_std_ubt_results\"  => [1.756, 0.317, 0.205, 0.219, 0.203, 0.174, 0.203, 0.…\n",
       "  \"lp_new_ub_results\"   => [46492.0, 46716.0, 46999.0, 46046.0, 46129.0, 46034.…\n",
       "  \"clp_ub_results\"      => [45902.0, 45797.0, 46046.0, 46276.0, 46718.0, 46452.…\n",
       "  \"pivtimes\"            => 100\n",
       "  \"lp_lb_results\"       => [1.34763e6, 1.34763e6, 1.34763e6, 1.34763e6, 1.34763…\n",
       "  \"clp_lbt_results\"     => [2122.25, 2122.25, 2122.25, 2122.25, 2122.25, 2122.2…\n",
       "  \"clp_lb_results\"      => [1.34763e6, 1.34763e6, 1.34763e6, 1.34763e6, 1.34763…\n",
       "  \"status_cclp\"         => false"
      ]
     },
     "execution_count": 11,
     "metadata": {},
     "output_type": "execute_result"
    }
   ],
   "source": [
    "F = matread(\"lp_fb_results/Bowdoin47_lp_combined_lam_0.4.mat\")"
   ]
  },
  {
   "cell_type": "code",
   "execution_count": 15,
   "id": "damaged-delivery",
   "metadata": {},
   "outputs": [
    {
     "data": {
      "text/plain": [
       "Dict{String, Any} with 8 entries:\n",
       "  \"cfp_ubt_results\"   => [0.0309999, 0.016, 0.0309999, 0.0310001, 0.016, 0.0309…\n",
       "  \"cfp_tott_results\"  => [0.0929999, 0.0780001, 0.0929999, 0.0930002, 0.0780001…\n",
       "  \"lb\"                => 3745\n",
       "  \"lambda\"            => 0.55\n",
       "  \"graph_stats\"       => [1222.0, 16714.0, 0.55]\n",
       "  \"lb_time\"           => 0.062\n",
       "  \"cfp_ratio_results\" => [2.11749, 2.09399, 2.10628, 2.10227, 2.11055, 2.09479,…\n",
       "  \"cfp_ub_results\"    => [7930.0, 7842.0, 7888.0, 7873.0, 7904.0, 7845.0, 7910.…"
      ]
     },
     "execution_count": 15,
     "metadata": {},
     "output_type": "execute_result"
    }
   ],
   "source": [
    "F = matread(\"cfp_smallgraph_results/polblogsA_cfp_combined_lam_0.55.mat\")"
   ]
  },
  {
   "cell_type": "code",
   "execution_count": 43,
   "id": "progressive-globe",
   "metadata": {},
   "outputs": [
    {
     "data": {
      "text/plain": [
       "Dict{String, Any} with 19 entries:\n",
       "  \"clp_ubt_results\"      => [0.00999999, 0.0109999, 0.00999999, 0.00999999, 0.0…\n",
       "  \"lp_std_ub_results\"    => [10023.0, 10023.0, 10023.0, 10023.0, 10023.0, 10023…\n",
       "  \"iscclp\"               => true\n",
       "  \"lp_new_tott_results\"  => [10025.0, 10204.0, 10021.0, 9904.01, 10104.0, 10090…\n",
       "  \"clp_ratio_results\"    => [2.0233, 2.02031, 1.97403, 2.02549, 1.99597, 2.0023…\n",
       "  \"lp_lbt_results\"       => [326.751, 326.751, 326.751, 326.751, 326.751, 326.7…\n",
       "  \"clp_tott_results\"     => [326.173, 326.174, 326.173, 326.173, 326.181, 326.1…\n",
       "  \"lp_new_ubt_results\"   => [0.0079999, 0.02, 0.00999999, 0.00800014, 0.0110002…\n",
       "  \"lp_std_tott_results\"  => [10023.0, 10023.0, 10023.0, 10023.0, 10023.0, 10023…\n",
       "  \"lp_std_ubt_results\"   => [0.00999999, 0.00200009, 0.0, 0.00999999, 0.0019998…\n",
       "  \"lp_new_ub_results\"    => [10025.0, 10204.0, 10021.0, 9904.0, 10104.0, 10090.…\n",
       "  \"clp_ub_results\"       => [10143.0, 10128.0, 9896.0, 10154.0, 10006.0, 10038.…\n",
       "  \"lp_new_ratio_results\" => [1.99976, 2.03547, 1.99896, 1.97562, 2.01552, 2.012…\n",
       "  \"lp_std_ratio_results\" => [1.99936, 1.99936, 1.99936, 1.99936, 1.99936, 1.999…\n",
       "  \"pivtimes\"             => 100\n",
       "  \"lp_lb_results\"        => [5013.1, 5013.1, 5013.1, 5013.1, 5013.1, 5013.1, 50…\n",
       "  \"clp_lbt_results\"      => [326.163, 326.163, 326.163, 326.163, 326.163, 326.1…\n",
       "  \"clp_lb_results\"       => [5013.1, 5013.1, 5013.1, 5013.1, 5013.1, 5013.1, 50…\n",
       "  \"status_stclp\"         => true"
      ]
     },
     "execution_count": 43,
     "metadata": {},
     "output_type": "execute_result"
    }
   ],
   "source": [
    "F = matread(\"lp_smallgraph_results/polblogsA_lp_combined_lam_0.4.mat\")"
   ]
  },
  {
   "cell_type": "code",
   "execution_count": 16,
   "id": "designing-flush",
   "metadata": {},
   "outputs": [
    {
     "data": {
      "text/plain": [
       "Dict{String, Any} with 8 entries:\n",
       "  \"results_mfp_cl\"  => [111.0, 1732.0, 3105.34]\n",
       "  \"runtime_mfp\"     => 0.418\n",
       "  \"LB_mfp\"          => 111.0\n",
       "  \"UB_lp\"           => 1732.0\n",
       "  \"lambda\"          => 0.000976562\n",
       "  \"graph_stats\"     => [1024.0, 4916.0, 0.000976562]\n",
       "  \"ratio_mfp\"       => 15.6036\n",
       "  \"runtimes_mfp_cl\" => [0.259, 0.159, 0.15404]"
      ]
     },
     "execution_count": 16,
     "metadata": {},
     "output_type": "execute_result"
    }
   ],
   "source": [
    "F = matread(\"lp_smallgraph_results/SmaGriA_lp_combined_lam_0.0009765625.mat\")"
   ]
  },
  {
   "cell_type": "code",
   "execution_count": 33,
   "id": "constant-ebony",
   "metadata": {},
   "outputs": [
    {
     "name": "stdout",
     "output_type": "stream",
     "text": [
      "LB LP: 911.8500000013255\n",
      "LB cheap LP: 911.7500000013215\n",
      "LB Coverflip: 845.0\n",
      "UB LP: 1818.0\n",
      "UB cheap LP: 1815.0\n",
      "UB Coverflip: 1849.0\n",
      "Ratio LP: 0.5015676567664057\n",
      "Ratio cheap LP: 0.5023415977968714\n",
      "Ratio CoverFlip: 2.188165680473373\n",
      "Runtime LP : [8.763999938964844, 0.0]\n",
      "Runtime cheap LP : [8.388999938964844, 0.0]\n",
      "Runtime CoverFlip : 0.040000200271606445\n"
     ]
    }
   ],
   "source": [
    "F = matread(\"lp_smallgraph_results/$(graph)_lp_combined_lam_0.15.mat\")\n",
    "C = matread(\"cfp_smallgraph_results/$(graph)_lp_combined_lam_0.15.mat\")\n",
    "println(\"LB LP: $(F[\"LB_lp\"])\")\n",
    "println(\"LB cheap LP: $(F[\"LB_cheap_lp\"])\")\n",
    "println(\"LB Coverflip: $(C[\"LB_mfp\"])\")\n",
    "println(\"UB LP: $(F[\"UB_lp\"])\")\n",
    "println(\"UB cheap LP: $(F[\"UB_cheap_lp\"])\")\n",
    "println(\"UB Coverflip: $(C[\"UB_lp\"])\")\n",
    "println(\"Ratio LP: $(F[\"ratio_lp\"])\")\n",
    "println(\"Ratio cheap LP: $(F[\"ratio_cheap_lp\"])\")\n",
    "println(\"Ratio CoverFlip: $(C[\"ratio_mfp\"])\")\n",
    "println(\"Runtime LP : $(F[\"runtimes_lp\"])\")\n",
    "println(\"Runtime cheap LP : $(F[\"runtimes_cheap_lp\"])\")\n",
    "println(\"Runtime CoverFlip : $(C[\"runtime_mfp\"])\")"
   ]
  },
  {
   "cell_type": "code",
   "execution_count": 39,
   "id": "pediatric-october",
   "metadata": {},
   "outputs": [
    {
     "name": "stdout",
     "output_type": "stream",
     "text": [
      "Graph stats : [297.0, 2148.0, 0.55]\n",
      "LB LP: 483.3000000173415\n",
      "LB cheap LP: 483.3000000173415\n",
      "LB Coverflip: 476.0\n",
      "UB LP: 967.0\n",
      "UB cheap LP: 967.0\n",
      "UB Coverflip: 1015.0\n",
      "Ratio LP: 0.4997931747852549\n",
      "Ratio cheap LP: 0.4997931747852549\n",
      "Ratio CoverFlip: 2.1323529411764706\n",
      "Runtime LP : [0.5369999408721924, 0.0009999275207519531]\n",
      "Runtime cheap LP : [0.5079998970031738, 0.0]\n",
      "Runtime CoverFlip : 0.016000032424926758\n"
     ]
    }
   ],
   "source": [
    "F = matread(\"lp_smallgraph_results/$(graph)_lp_combined_lam_0.55.mat\")\n",
    "C = matread(\"cfp_smallgraph_results/$(graph)_lp_combined_lam_0.55.mat\")\n",
    "println(\"Graph stats : $(C[\"graph_stats\"])\")\n",
    "println(\"LB LP: $(F[\"LB_lp\"])\")\n",
    "println(\"LB cheap LP: $(F[\"LB_cheap_lp\"])\")\n",
    "println(\"LB Coverflip: $(C[\"LB_mfp\"])\")\n",
    "println(\"UB LP: $(F[\"UB_lp\"])\")\n",
    "println(\"UB cheap LP: $(F[\"UB_cheap_lp\"])\")\n",
    "println(\"UB Coverflip: $(C[\"UB_lp\"])\")\n",
    "println(\"Ratio LP: $(F[\"ratio_lp\"])\")\n",
    "println(\"Ratio cheap LP: $(F[\"ratio_cheap_lp\"])\")\n",
    "println(\"Ratio CoverFlip: $(C[\"ratio_mfp\"])\")\n",
    "println(\"Runtime LP : $(F[\"runtimes_lp\"])\")\n",
    "println(\"Runtime cheap LP : $(F[\"runtimes_cheap_lp\"])\")\n",
    "println(\"Runtime CoverFlip : $(C[\"runtime_mfp\"])\")"
   ]
  },
  {
   "cell_type": "code",
   "execution_count": 44,
   "id": "ethical-commonwealth",
   "metadata": {},
   "outputs": [
    {
     "name": "stdout",
     "output_type": "stream",
     "text": [
      "LB LP: 598.03994\n",
      "LB cheap LP: 229.39336000233055\n",
      "UB LP: 598.0\n",
      "UB cheap LP: 1915.0\n",
      "Ratio LP: 1.000066789297659\n",
      "Ratio cheap LP: 0.11978765535369741\n",
      "Runtime LP : [48.33300018310547, 0.07800006866455078]\n",
      "Runtime cheap LP : [8.95799994468689, 0.06300020217895508]\n"
     ]
    }
   ],
   "source": [
    "F = matread(\"lp_smallgraph_results/$(graph)_lp_combined_lam_0.00082.mat\")\n",
    "# C = matread(\"cfp_smallgraph_results/$(graph)_lp_combined_lam_0.0082.mat\")\n",
    "println(\"LB LP: $(F[\"LB_lp\"])\")\n",
    "println(\"LB cheap LP: $(F[\"LB_cheap_lp\"])\")\n",
    "# println(\"LB Coverflip: $(C[\"LB_mfp\"])\")\n",
    "println(\"UB LP: $(F[\"UB_lp\"])\")\n",
    "println(\"UB cheap LP: $(F[\"UB_cheap_lp\"])\")\n",
    "# println(\"UB Coverflip: $(C[\"UB_lp\"])\")\n",
    "println(\"Ratio LP: $(F[\"ratio_lp\"])\")\n",
    "println(\"Ratio cheap LP: $(F[\"ratio_cheap_lp\"])\")\n",
    "# println(\"Ratio CoverFlip: $(C[\"ratio_mfp\"])\")\n",
    "println(\"Runtime LP : $(F[\"runtimes_lp\"])\")\n",
    "println(\"Runtime cheap LP : $(F[\"runtimes_cheap_lp\"])\")\n",
    "# println(\"Runtime CoverFlip : $(C[\"runtime_mfp\"])\")"
   ]
  },
  {
   "cell_type": "code",
   "execution_count": 37,
   "id": "refined-editor",
   "metadata": {},
   "outputs": [
    {
     "name": "stdout",
     "output_type": "stream",
     "text": [
      "LB LP: 53.700000004289905\n",
      "LB cheap LP: 53.700000004289905\n",
      "LB Coverflip: 53.0\n",
      "UB LP: 107.0\n",
      "UB cheap LP: 107.0\n",
      "UB Coverflip: 106.0\n",
      "Ratio LP: 0.5018691589185973\n",
      "Ratio cheap LP: 0.5018691589185973\n",
      "Ratio CoverFlip: 2.0\n",
      "Runtime LP : [0.2869999408721924, 0.0009999275207519531]\n",
      "Runtime cheap LP : [0.25799989700317383, 0.0010001659393310547]\n",
      "Runtime CoverFlip : 0.006999969482421875\n"
     ]
    }
   ],
   "source": [
    "F = matread(\"lp_smallgraph_results/$(graph)_lp_combined_lam_0.95.mat\")\n",
    "C = matread(\"cfp_smallgraph_results/$(graph)_lp_combined_lam_0.95.mat\")\n",
    "println(\"LB LP: $(F[\"LB_lp\"])\")\n",
    "println(\"LB cheap LP: $(F[\"LB_cheap_lp\"])\")\n",
    "println(\"LB Coverflip: $(C[\"LB_mfp\"])\")\n",
    "println(\"UB LP: $(F[\"UB_lp\"])\")\n",
    "println(\"UB cheap LP: $(F[\"UB_cheap_lp\"])\")\n",
    "println(\"UB Coverflip: $(C[\"UB_lp\"])\")\n",
    "println(\"Ratio LP: $(F[\"ratio_lp\"])\")\n",
    "println(\"Ratio cheap LP: $(F[\"ratio_cheap_lp\"])\")\n",
    "println(\"Ratio CoverFlip: $(C[\"ratio_mfp\"])\")\n",
    "println(\"Runtime LP : $(F[\"runtimes_lp\"])\")\n",
    "println(\"Runtime cheap LP : $(F[\"runtimes_cheap_lp\"])\")\n",
    "println(\"Runtime CoverFlip : $(C[\"runtime_mfp\"])\")"
   ]
  },
  {
   "cell_type": "markdown",
   "id": "detailed-charleston",
   "metadata": {},
   "source": [
    "polblogs graph"
   ]
  },
  {
   "cell_type": "code",
   "execution_count": 41,
   "id": "median-andorra",
   "metadata": {},
   "outputs": [
    {
     "ename": "LoadError",
     "evalue": "KeyError: key \"LB_lp\" not found",
     "output_type": "error",
     "traceback": [
      "KeyError: key \"LB_lp\" not found",
      "",
      "Stacktrace:",
      " [1] getindex(h::Dict{String, Any}, key::String)",
      "   @ Base .\\dict.jl:482",
      " [2] top-level scope",
      "   @ In[41]:4",
      " [3] eval",
      "   @ .\\boot.jl:360 [inlined]",
      " [4] include_string(mapexpr::typeof(REPL.softscope), mod::Module, code::String, filename::String)",
      "   @ Base .\\loading.jl:1116"
     ]
    }
   ],
   "source": [
    "graph = smallgraphs[7]\n",
    "F = matread(\"lp_smallgraph_results/$(graph)_lp_combined_lam_0.15.mat\")\n",
    "C = matread(\"cfp_smallgraph_results/$(graph)_lp_combined_lam_0.15.mat\")\n",
    "println(\"LB LP: $(F[\"LB_lp\"])\")\n",
    "println(\"LB cheap LP: $(F[\"LB_cheap_lp\"])\")\n",
    "println(\"LB Coverflip: $(C[\"LB_mfp\"])\")\n",
    "println(\"UB LP: $(F[\"UB_lp\"])\")\n",
    "println(\"UB cheap LP: $(F[\"UB_cheap_lp\"])\")\n",
    "println(\"UB Coverflip: $(C[\"UB_lp\"])\")\n",
    "println(\"Ratio LP: $(F[\"ratio_lp\"])\")\n",
    "println(\"Ratio cheap LP: $(F[\"ratio_cheap_lp\"])\")\n",
    "println(\"Ratio CoverFlip: $(C[\"ratio_mfp\"])\")\n",
    "println(\"Runtime LP : $(F[\"runtimes_lp\"])\")\n",
    "println(\"Runtime cheap LP : $(F[\"runtimes_cheap_lp\"])\")\n",
    "println(\"Runtime CoverFlip : $(C[\"runtime_mfp\"])\")"
   ]
  },
  {
   "cell_type": "code",
   "execution_count": 1,
   "id": "eligible-smile",
   "metadata": {},
   "outputs": [
    {
     "data": {
      "text/plain": [
       "5×5 Matrix{Float64}:\n",
       " 0.0363636  0.0727273  0.109091  0.145455  0.181818\n",
       " 0.0727273  0.145455   0.218182  0.290909  0.363636\n",
       " 0.109091   0.218182   0.327273  0.436364  0.545455\n",
       " 0.145455   0.290909   0.436364  0.581818  0.727273\n",
       " 0.181818   0.363636   0.545455  0.727273  0.909091"
      ]
     },
     "execution_count": 1,
     "metadata": {},
     "output_type": "execute_result"
    }
   ],
   "source": [
    "A = [2,4,6,8,10]\n",
    "B = [1,2,3,4,5]\n",
    "A/B"
   ]
  },
  {
   "cell_type": "code",
   "execution_count": null,
   "id": "incredible-transcription",
   "metadata": {},
   "outputs": [],
   "source": []
  }
 ],
 "metadata": {
  "kernelspec": {
   "display_name": "Julia 1.6.2",
   "language": "julia",
   "name": "julia-1.6"
  },
  "language_info": {
   "file_extension": ".jl",
   "mimetype": "application/julia",
   "name": "julia",
   "version": "1.6.2"
  }
 },
 "nbformat": 4,
 "nbformat_minor": 5
}
